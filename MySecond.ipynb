{
  "nbformat": 4,
  "nbformat_minor": 0,
  "metadata": {
    "colab": {
      "name": "MySecond.ipynb",
      "provenance": [],
      "authorship_tag": "ABX9TyOjRtmQ/0rp1YxuKoC9d/j1",
      "include_colab_link": true
    },
    "kernelspec": {
      "name": "python3",
      "display_name": "Python 3"
    },
    "language_info": {
      "name": "python"
    }
  },
  "cells": [
    {
      "cell_type": "markdown",
      "metadata": {
        "id": "view-in-github",
        "colab_type": "text"
      },
      "source": [
        "<a href=\"https://colab.research.google.com/github/sooddap8294/colab/blob/main/MySecond.ipynb\" target=\"_parent\"><img src=\"https://colab.research.google.com/assets/colab-badge.svg\" alt=\"Open In Colab\"/></a>"
      ]
    },
    {
      "cell_type": "code",
      "execution_count": 1,
      "metadata": {
        "colab": {
          "base_uri": "https://localhost:8080/"
        },
        "id": "XDVEmW5LUlEi",
        "outputId": "e299dd08-c95a-4738-8896-9aee26256363"
      },
      "outputs": [
        {
          "output_type": "stream",
          "name": "stdout",
          "text": [
            "두번째 파일입니다\n",
            "난생처음 파이썬을 공부하지만 익숙해지는 겉아요\n"
          ]
        }
      ],
      "source": [
        "print(\"두번째 파일입니다\")\n",
        "print(\"난생처음 파이썬을 공부하지만 익숙해지는 겉아요\")"
      ]
    }
  ]
}