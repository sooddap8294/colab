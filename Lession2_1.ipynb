{
  "nbformat": 4,
  "nbformat_minor": 0,
  "metadata": {
    "colab": {
      "name": "Lession2-1.ipynb",
      "provenance": [],
      "authorship_tag": "ABX9TyOaPsVcGVcZYo5FOd1uSDY4",
      "include_colab_link": true
    },
    "kernelspec": {
      "name": "python3",
      "display_name": "Python 3"
    },
    "language_info": {
      "name": "python"
    }
  },
  "cells": [
    {
      "cell_type": "markdown",
      "metadata": {
        "id": "view-in-github",
        "colab_type": "text"
      },
      "source": [
        "<a href=\"https://colab.research.google.com/github/sooddap8294/colab/blob/main/Lession2_1.ipynb\" target=\"_parent\"><img src=\"https://colab.research.google.com/assets/colab-badge.svg\" alt=\"Open In Colab\"/></a>"
      ]
    },
    {
      "cell_type": "code",
      "execution_count": 2,
      "metadata": {
        "colab": {
          "base_uri": "https://localhost:8080/"
        },
        "id": "gvXilxrKjdGS",
        "outputId": "8724cf3a-c3f1-4de3-c914-dbbc18bffc01"
      },
      "outputs": [
        {
          "output_type": "stream",
          "name": "stdout",
          "text": [
            "100 + 200 = 300\n"
          ]
        }
      ],
      "source": [
        "\n",
        "a = 100\n",
        "b = 200\n",
        "c = a + b\n",
        "print(a, \"+\" , b, \"=\", c)"
      ]
    },
    {
      "cell_type": "markdown",
      "source": [
        "2장 예제\n"
      ],
      "metadata": {
        "id": "MxaxJZAHkwl0"
      }
    }
  ]
}