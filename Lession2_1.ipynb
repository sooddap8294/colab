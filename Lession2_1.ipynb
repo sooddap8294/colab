{
  "nbformat": 4,
  "nbformat_minor": 0,
  "metadata": {
    "colab": {
      "name": "Lession2-1.ipynb",
      "provenance": [],
      "authorship_tag": "ABX9TyPGlGrRUW0yM1mcq1XOV78+",
      "include_colab_link": true
    },
    "kernelspec": {
      "name": "python3",
      "display_name": "Python 3"
    },
    "language_info": {
      "name": "python"
    }
  },
  "cells": [
    {
      "cell_type": "markdown",
      "metadata": {
        "id": "view-in-github",
        "colab_type": "text"
      },
      "source": [
        "<a href=\"https://colab.research.google.com/github/sooddap8294/colab/blob/main/Lession2_1.ipynb\" target=\"_parent\"><img src=\"https://colab.research.google.com/assets/colab-badge.svg\" alt=\"Open In Colab\"/></a>"
      ]
    },
    {
      "cell_type": "code",
      "execution_count": null,
      "metadata": {
        "colab": {
          "base_uri": "https://localhost:8080/"
        },
        "id": "gvXilxrKjdGS",
        "outputId": "8724cf3a-c3f1-4de3-c914-dbbc18bffc01"
      },
      "outputs": [
        {
          "output_type": "stream",
          "name": "stdout",
          "text": [
            "100 + 200 = 300\n"
          ]
        }
      ],
      "source": [
        "\n",
        "a = 100\n",
        "b = 200\n",
        "c = a + b\n",
        "print(a, \"+\" , b, \"=\", c)"
      ]
    },
    {
      "cell_type": "code",
      "source": [
        "num1 = 8\n",
        "num2 = 17\n",
        "result = num1 * num2\n",
        "print(num1, \"x\", num2. \"=\", result)"
      ],
      "metadata": {
        "id": "TpZ83qDgmVr5",
        "outputId": "6bc6c970-ea9b-406e-8afc-21938a6e4b8d",
        "colab": {
          "base_uri": "https://localhost:8080/",
          "height": 137
        }
      },
      "execution_count": 1,
      "outputs": [
        {
          "output_type": "error",
          "ename": "SyntaxError",
          "evalue": "ignored",
          "traceback": [
            "\u001b[0;36m  File \u001b[0;32m\"<ipython-input-1-78f867f98a9f>\"\u001b[0;36m, line \u001b[0;32m4\u001b[0m\n\u001b[0;31m    print(num1, \"x\", num2. \"=\", result)\u001b[0m\n\u001b[0m                             ^\u001b[0m\n\u001b[0;31mSyntaxError\u001b[0m\u001b[0;31m:\u001b[0m invalid syntax\n"
          ]
        }
      ]
    },
    {
      "cell_type": "code",
      "source": [
        "num1, num2 = 4, 2\n",
        "result = num1 % num2\n",
        "print(num1, \"%\", num2, \"=\", result)"
      ],
      "metadata": {
        "id": "WhvTlQX6m1Vg",
        "outputId": "18f73dfa-3ed5-4278-a935-b322be5c9500",
        "colab": {
          "base_uri": "https://localhost:8080/"
        }
      },
      "execution_count": 4,
      "outputs": [
        {
          "output_type": "stream",
          "name": "stdout",
          "text": [
            "4 % 2 = 0\n"
          ]
        }
      ]
    },
    {
      "cell_type": "markdown",
      "source": [
        "몫을 구하는 연산자 : //"
      ],
      "metadata": {
        "id": "YpW9kvAynTvA"
      }
    },
    {
      "cell_type": "code",
      "source": [
        "num1, num2 = 4, 2\n",
        "result = num1 % num2\n",
        "print(num1, \"//\", num2, \"=\", result)"
      ],
      "metadata": {
        "id": "8evkRzapnbrJ",
        "outputId": "f9316e8b-3e15-430b-ce73-cbab7e0ee2c2",
        "colab": {
          "base_uri": "https://localhost:8080/"
        }
      },
      "execution_count": 5,
      "outputs": [
        {
          "output_type": "stream",
          "name": "stdout",
          "text": [
            "4 // 2 = 0\n"
          ]
        }
      ]
    },
    {
      "cell_type": "code",
      "source": [
        "str1 = \"안산공고\"\n",
        "str2 = \"컴퓨터과\"\n",
        "result = str1 + str2\n",
        "print(str1, \"+\", str2, \"=\", result)"
      ],
      "metadata": {
        "id": "6U0mgap_oWJP",
        "outputId": "6a90bd2c-c722-4fa5-9b63-0fb4391a8f99",
        "colab": {
          "base_uri": "https://localhost:8080/"
        }
      },
      "execution_count": 6,
      "outputs": [
        {
          "output_type": "stream",
          "name": "stdout",
          "text": [
            "안산공고 + 컴퓨터과 = 안산공고컴퓨터과\n"
          ]
        }
      ]
    },
    {
      "cell_type": "code",
      "source": [
        "str1 = \"안산공고\"\n",
        "result = str1 * 3\n",
        "print(str1, \"*\", 3, \"=\", result)"
      ],
      "metadata": {
        "id": "Wp6L0Tkpot95",
        "outputId": "06212734-6b08-4d90-c503-89f970049597",
        "colab": {
          "base_uri": "https://localhost:8080/"
        }
      },
      "execution_count": 7,
      "outputs": [
        {
          "output_type": "stream",
          "name": "stdout",
          "text": [
            "안산공고 * 3 = 안산공고안산공고안산공고\n"
          ]
        }
      ]
    },
    {
      "cell_type": "markdown",
      "source": [
        "문자열 연산자 : +,*"
      ],
      "metadata": {
        "id": "DKjlwklMoZPZ"
      }
    },
    {
      "cell_type": "code",
      "source": [
        "num1 = 8\n",
        "num2 = 17\n",
        "result= num1 / num2\n",
        "print(num1, \"/\", num2, \"=\", result)"
      ],
      "metadata": {
        "id": "eX6AK1NVmjZo",
        "outputId": "f33bfca9-3063-45a1-8053-5a56ed16936c",
        "colab": {
          "base_uri": "https://localhost:8080/"
        }
      },
      "execution_count": 2,
      "outputs": [
        {
          "output_type": "stream",
          "name": "stdout",
          "text": [
            "8 / 17 = 0.47058823529411764\n"
          ]
        }
      ]
    },
    {
      "cell_type": "code",
      "source": [
        "num1 = 500\n",
        "num2= 200\n",
        "result = num1 - num2\n",
        "print(num1, \"-\", num2, \"=\", result)"
      ],
      "metadata": {
        "colab": {
          "base_uri": "https://localhost:8080/"
        },
        "id": "haidjPuMloYJ",
        "outputId": "b497e757-c655-4c86-bc7d-b9b2ea069071"
      },
      "execution_count": null,
      "outputs": [
        {
          "output_type": "stream",
          "name": "stdout",
          "text": [
            "500 - 200 = 300\n"
          ]
        }
      ]
    },
    {
      "cell_type": "markdown",
      "source": [
        "2장 예제\n"
      ],
      "metadata": {
        "id": "MxaxJZAHkwl0"
      }
    },
    {
      "cell_type": "markdown",
      "source": [
        "2장 형성평가1"
      ],
      "metadata": {
        "id": "PHmeLHTtpNmJ"
      }
    },
    {
      "cell_type": "code",
      "source": [
        "num1 = 100\n",
        "num2 = 200\n",
        "result1 = num1 + num2\n",
        "result2 = num1 - num2\n",
        "result3 = num1 * num2\n",
        "result4 = num1 / num2\n",
        "print(num1, \"+\", num2, \"=\", result(1))\n",
        "print(num1, \"-\", num2, \"=\", result(2))\n",
        "print(num1, \"*\", num2, \"=\", result(3))\n",
        "print(num1, \"/\", num2, \"=\", result(4))\n",
        "\n"
      ],
      "metadata": {
        "id": "mXnqv-__pPMQ",
        "outputId": "3073d204-0fbb-401a-95f2-673c9406f529",
        "colab": {
          "base_uri": "https://localhost:8080/",
          "height": 248
        }
      },
      "execution_count": 9,
      "outputs": [
        {
          "output_type": "error",
          "ename": "TypeError",
          "evalue": "ignored",
          "traceback": [
            "\u001b[0;31m---------------------------------------------------------------------------\u001b[0m",
            "\u001b[0;31mTypeError\u001b[0m                                 Traceback (most recent call last)",
            "\u001b[0;32m<ipython-input-9-c7b65398719e>\u001b[0m in \u001b[0;36m<module>\u001b[0;34m\u001b[0m\n\u001b[1;32m      5\u001b[0m \u001b[0mresult3\u001b[0m \u001b[0;34m=\u001b[0m \u001b[0mnum1\u001b[0m \u001b[0;34m*\u001b[0m \u001b[0mnum2\u001b[0m\u001b[0;34m\u001b[0m\u001b[0;34m\u001b[0m\u001b[0m\n\u001b[1;32m      6\u001b[0m \u001b[0mresult4\u001b[0m \u001b[0;34m=\u001b[0m \u001b[0mnum1\u001b[0m \u001b[0;34m/\u001b[0m \u001b[0mnum2\u001b[0m\u001b[0;34m\u001b[0m\u001b[0;34m\u001b[0m\u001b[0m\n\u001b[0;32m----> 7\u001b[0;31m \u001b[0mprint\u001b[0m\u001b[0;34m(\u001b[0m\u001b[0mnum1\u001b[0m\u001b[0;34m,\u001b[0m \u001b[0;34m\"+\"\u001b[0m\u001b[0;34m,\u001b[0m \u001b[0mnum2\u001b[0m\u001b[0;34m,\u001b[0m \u001b[0;34m\"=\"\u001b[0m\u001b[0;34m,\u001b[0m \u001b[0mresult\u001b[0m\u001b[0;34m(\u001b[0m\u001b[0;36m1\u001b[0m\u001b[0;34m)\u001b[0m\u001b[0;34m)\u001b[0m\u001b[0;34m\u001b[0m\u001b[0;34m\u001b[0m\u001b[0m\n\u001b[0m\u001b[1;32m      8\u001b[0m \u001b[0mprint\u001b[0m\u001b[0;34m(\u001b[0m\u001b[0mnum1\u001b[0m\u001b[0;34m,\u001b[0m \u001b[0;34m\"-\"\u001b[0m\u001b[0;34m,\u001b[0m \u001b[0mnum2\u001b[0m\u001b[0;34m,\u001b[0m \u001b[0;34m\"=\"\u001b[0m\u001b[0;34m,\u001b[0m \u001b[0mresult\u001b[0m\u001b[0;34m(\u001b[0m\u001b[0;36m2\u001b[0m\u001b[0;34m)\u001b[0m\u001b[0;34m)\u001b[0m\u001b[0;34m\u001b[0m\u001b[0;34m\u001b[0m\u001b[0m\n\u001b[1;32m      9\u001b[0m \u001b[0mprint\u001b[0m\u001b[0;34m(\u001b[0m\u001b[0mnum1\u001b[0m\u001b[0;34m,\u001b[0m \u001b[0;34m\"*\"\u001b[0m\u001b[0;34m,\u001b[0m \u001b[0mnum2\u001b[0m\u001b[0;34m,\u001b[0m \u001b[0;34m\"=\"\u001b[0m\u001b[0;34m,\u001b[0m \u001b[0mresult\u001b[0m\u001b[0;34m(\u001b[0m\u001b[0;36m3\u001b[0m\u001b[0;34m)\u001b[0m\u001b[0;34m)\u001b[0m\u001b[0;34m\u001b[0m\u001b[0;34m\u001b[0m\u001b[0m\n",
            "\u001b[0;31mTypeError\u001b[0m: 'str' object is not callable"
          ]
        }
      ]
    }
  ]
}